{
 "cells": [
  {
   "cell_type": "markdown",
   "metadata": {},
   "source": [
    "## Adaptive Signal Processing\n",
    "\n",
    "#### Estimation, system identification, and Wiener solution\n",
    "\n",
    "###### Author: Xunzhe Wen  <br>"
   ]
  },
  {
   "cell_type": "code",
   "execution_count": 1,
   "metadata": {},
   "outputs": [],
   "source": [
    "import scipy\n",
    "import numpy as np\n",
    "import matplotlib.pyplot as plt\n",
    "from scipy import fftpack\n",
    "from scipy import signal\n",
    "from scipy import random\n",
    "from scipy import linalg\n",
    "\n",
    "plt.close('all')\n",
    "random.seed(1234)\n",
    "\n",
    "# Paramters Initialization\n",
    "L = 10000\n",
    "std_v = 1\n",
    "std_s = np.sqrt(10)\n",
    "mu = 0   ### zero mean\n",
    "\n",
    "# Signal Generation\n",
    "s = np.random.normal(mu,std_s,L)\n",
    "v = np.random.normal(mu,std_v,L)\n",
    "\n",
    "# FIR Filters\n",
    "g = [1,1]\n",
    "h = [1,2,1]\n",
    "lag_ss = [10]\n",
    "\n",
    "\n",
    "# FIR System\n",
    "x = signal.convolve(s,g)\n",
    "t = signal.convolve(x,h)\n",
    "d = t[0:L]+v\n",
    "lag_xx = signal.convolve(signal.convolve(lag_ss,g),g[::-1]) \n",
    "lag_dd = signal.convolve(signal.convolve(lag_xx,h),h[::-1])\n",
    "lag_dx = signal.convolve(lag_xx,h)\n",
    "power_d=lag_dd[3]+1"
   ]
  },
  {
   "cell_type": "markdown",
   "metadata": {},
   "source": [
    "Question 1 was solved manually."
   ]
  },
  {
   "cell_type": "markdown",
   "metadata": {},
   "source": [
    "Question 2:"
   ]
  },
  {
   "cell_type": "code",
   "execution_count": 20,
   "metadata": {},
   "outputs": [
    {
     "name": "stdout",
     "output_type": "stream",
     "text": [
      "1.0\n"
     ]
    }
   ],
   "source": [
    "# Question 2:\n",
    "\n",
    "R1 = np.array([[lag_xx[1],lag_xx[2],0],[lag_xx[2],lag_xx[1],lag_xx[2]],[0,lag_xx[2],lag_xx[1]]])\n",
    "p1 = (np.array([lag_dx[1],lag_dx[2],lag_dx[3]]))\n",
    "\n",
    "MMSE=power_d-p.T.dot(linalg.inv(R)).dot(p)\n",
    "\n",
    "print(MMSE)"
   ]
  },
  {
   "cell_type": "markdown",
   "metadata": {},
   "source": [
    "Question 3:"
   ]
  },
  {
   "cell_type": "code",
   "execution_count": 21,
   "metadata": {},
   "outputs": [
    {
     "name": "stdout",
     "output_type": "stream",
     "text": [
      "[ 1.  2.  1.]\n"
     ]
    }
   ],
   "source": [
    "w=linalg.inv(R).dot(p)\n",
    "\n",
    "print(w)"
   ]
  },
  {
   "cell_type": "markdown",
   "metadata": {},
   "source": [
    "Question 4:"
   ]
  },
  {
   "cell_type": "code",
   "execution_count": 22,
   "metadata": {},
   "outputs": [
    {
     "name": "stdout",
     "output_type": "stream",
     "text": [
      "1.0\n"
     ]
    }
   ],
   "source": [
    "MSE=power_d-w.T.dot(p)-w.T.dot(p)+w.T.dot(R).dot(w) # Real Valued\n",
    "\n",
    "print(MSE)"
   ]
  },
  {
   "cell_type": "markdown",
   "metadata": {},
   "source": [
    "Question 5:"
   ]
  },
  {
   "cell_type": "code",
   "execution_count": 23,
   "metadata": {},
   "outputs": [
    {
     "name": "stdout",
     "output_type": "stream",
     "text": [
      "0.988229641629\n"
     ]
    }
   ],
   "source": [
    "y=signal.convolve(x,w)\n",
    "e=d-y[:L]\n",
    "\n",
    "MSE=np.sum(e**2)/len(e)\n",
    "\n",
    "print (MSE)"
   ]
  },
  {
   "cell_type": "markdown",
   "metadata": {},
   "source": [
    "Question 6: "
   ]
  },
  {
   "cell_type": "code",
   "execution_count": 24,
   "metadata": {},
   "outputs": [],
   "source": [
    "# Unbiased Estimation Auto-correlation of x\n",
    "estimated_xx = np.correlate(x[0:L],x[0:L],\"full\")\n",
    "term = np.arange(L,0,-1)\n",
    "unbiased_estimated_xx = estimated_xx[L-1:]/term\n",
    "\n",
    "# Unbiased Estimation Cross-correlation of d and x\n",
    "estimated_dx = np.correlate(d[0:L],x[0:L],\"full\")\n",
    "unbiased_estimated_dx = estimated_dx[L-1:]/term"
   ]
  },
  {
   "cell_type": "markdown",
   "metadata": {},
   "source": [
    "Question 7:"
   ]
  },
  {
   "cell_type": "code",
   "execution_count": 25,
   "metadata": {},
   "outputs": [
    {
     "name": "stdout",
     "output_type": "stream",
     "text": [
      "[ 0.99728577  2.00465879  0.99863764]\n"
     ]
    }
   ],
   "source": [
    "xx = unbiased_estimated_xx[:3]\n",
    "dx = unbiased_estimated_dx[:3]\n",
    "\n",
    "R2 = np.array([[xx[0],xx[1],xx[2]],[xx[1],xx[0],xx[1]],[xx[2],xx[1],xx[0]]])\n",
    "p2 = np.array([dx[0],dx[1],dx[2]])\n",
    "\n",
    "W2=linalg.inv(R2).dot(p2.T)\n",
    "\n",
    "print(W2)"
   ]
  },
  {
   "cell_type": "markdown",
   "metadata": {},
   "source": [
    "Question 8:"
   ]
  },
  {
   "cell_type": "code",
   "execution_count": 26,
   "metadata": {},
   "outputs": [
    {
     "name": "stdout",
     "output_type": "stream",
     "text": [
      "1.21062794218\n"
     ]
    }
   ],
   "source": [
    "MSE2=power_d-W2.T.dot(p2)-W2.T.dot(p2)+W2.T.dot(R2).dot(W2) # Real Valued\n",
    "\n",
    "print(MSE2)"
   ]
  },
  {
   "cell_type": "markdown",
   "metadata": {},
   "source": [
    "Question 9:"
   ]
  },
  {
   "cell_type": "code",
   "execution_count": 32,
   "metadata": {
    "scrolled": true
   },
   "outputs": [
    {
     "name": "stdout",
     "output_type": "stream",
     "text": [
      "[[ 1.00427227]\n",
      " [ 1.99902679]\n",
      " [ 1.0028289 ]]\n"
     ]
    }
   ],
   "source": [
    "x=x[0:L]\n",
    "d=d[0:L]\n",
    "\n",
    "# Fourior Transform\n",
    "nperseg=256\n",
    "overlap=nperseg/2\n",
    "nfft=nperseg\n",
    "\n",
    "freqtmp, Pxx = signal.csd(x, x, fs=1.0, window='hann', nperseg=nperseg, noverlap=overlap, nfft=nfft,\n",
    "                         detrend=False, return_onesided=False, scaling='density', axis=-1)\n",
    "freqtmp, Pdx = signal.csd(d, x, fs=1.0, window='hann', nperseg=nperseg, noverlap=overlap, nfft=nfft,\n",
    "                         detrend=False, return_onesided=False, scaling='density', axis=-1)\n",
    "\n",
    "w3=Pdx/Pxx\n",
    "\n",
    "# Inverse Fourior Transform\n",
    "w3=fftpack.ifftshift(np.real(fftpack.ifft(w3)))[126:129] # Coeff allocated in the middle\n",
    "w3=np.vstack((np.reshape(w3,(1,-1)).T,0))[:3]\n",
    "w3=w3[:3]\n",
    "\n",
    "print(w3)"
   ]
  },
  {
   "cell_type": "markdown",
   "metadata": {},
   "source": [
    "Question 10:"
   ]
  },
  {
   "cell_type": "code",
   "execution_count": 31,
   "metadata": {},
   "outputs": [
    {
     "name": "stdout",
     "output_type": "stream",
     "text": [
      "[[ 1.00040582]]\n"
     ]
    }
   ],
   "source": [
    "MSE=power_d-w3.T.dot(p1)-w3.T.dot(p1)+w3.T.dot(R1).dot(w3) # Real Valued\n",
    "\n",
    "print(MSE)"
   ]
  },
  {
   "cell_type": "code",
   "execution_count": null,
   "metadata": {},
   "outputs": [],
   "source": []
  },
  {
   "cell_type": "code",
   "execution_count": null,
   "metadata": {},
   "outputs": [],
   "source": []
  },
  {
   "cell_type": "code",
   "execution_count": null,
   "metadata": {},
   "outputs": [],
   "source": []
  },
  {
   "cell_type": "code",
   "execution_count": null,
   "metadata": {},
   "outputs": [],
   "source": []
  }
 ],
 "metadata": {
  "kernelspec": {
   "display_name": "Python 3",
   "language": "python",
   "name": "python3"
  },
  "language_info": {
   "codemirror_mode": {
    "name": "ipython",
    "version": 2
   },
   "file_extension": ".py",
   "mimetype": "text/x-python",
   "name": "python",
   "nbconvert_exporter": "python",
   "pygments_lexer": "ipython2",
   "version": "2.7.13"
  }
 },
 "nbformat": 4,
 "nbformat_minor": 2
}
